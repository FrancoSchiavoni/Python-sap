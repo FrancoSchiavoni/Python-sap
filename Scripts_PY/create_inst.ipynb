{
 "cells": [
  {
   "cell_type": "markdown",
   "metadata": {},
   "source": [
    "# Python Script - Create Instalacion"
   ]
  },
  {
   "cell_type": "code",
   "execution_count": 1,
   "metadata": {},
   "outputs": [],
   "source": [
    "import connect_sap as sap\n",
    "from datetime import datetime"
   ]
  },
  {
   "cell_type": "markdown",
   "metadata": {},
   "source": [
    "## Const"
   ]
  },
  {
   "cell_type": "code",
   "execution_count": 2,
   "metadata": {},
   "outputs": [],
   "source": [
    "folderdir = \"C:\\\\_tmp\\\\\"\n",
    "trxCreateINS = \"/nES30\"\n",
    "trxUpdateINS = \"/nES31\""
   ]
  },
  {
   "cell_type": "markdown",
   "metadata": {},
   "source": [
    "## Funciones"
   ]
  },
  {
   "cell_type": "code",
   "execution_count": 3,
   "metadata": {},
   "outputs": [],
   "source": [
    "def elemento_presente(id_elemento):\n",
    "    try:\n",
    "        sap.session.findById(id_elemento)\n",
    "        return True\n",
    "    except:\n",
    "        return False"
   ]
  },
  {
   "cell_type": "markdown",
   "metadata": {},
   "source": [
    "## Run SAP Script"
   ]
  },
  {
   "cell_type": "markdown",
   "metadata": {},
   "source": [
    "### Parameters"
   ]
  },
  {
   "cell_type": "code",
   "execution_count": 4,
   "metadata": {},
   "outputs": [],
   "source": [
    "# DateTime execution\n",
    "now = datetime.now()\n",
    "date_string = now.strftime(\"-%Y%m%d_%H%M%S\")\n",
    "\n",
    "\n",
    "import json_magnament as j\n",
    "\n",
    "datos = j.read_json()\n",
    "\n",
    "#Objetos\n",
    "p_OC = datos['OBJETOS']['OC']\n",
    "p_PS = datos['OBJETOS']['PS']\n",
    "\n",
    "#Create\n",
    "dia_fijado = datos['Create_INST']['dia_fijado']\n",
    "sector = datos['Create_INST']['sector']\n",
    "nivTension = datos['Create_INST']['nivTension']\n",
    "clCal = datos['Create_INST']['clCal']\n",
    "tp_tarifa = datos['Create_INST']['tp_tarifa']\n",
    "unidad_lectura = datos['Create_INST']['unidad_lectura']"
   ]
  },
  {
   "cell_type": "markdown",
   "metadata": {},
   "source": [
    "### Ingresar Trx"
   ]
  },
  {
   "cell_type": "code",
   "execution_count": 5,
   "metadata": {},
   "outputs": [],
   "source": [
    "# In trx Create INS\n",
    "sap.session.findById(\"wnd[0]\").maximize()\n",
    "sap.session.findById(\"wnd[0]/tbar[0]/okcd\").text = trxCreateINS\n",
    "sap.session.findById(\"wnd[0]\").sendVKey(0)\n",
    "\n",
    "sap.session.findById(\"wnd[0]/usr/ctxtEANLD-STICHTAG\").text = dia_fijado\n",
    "sap.session.findById(\"wnd[0]/usr/ctxtEANLD-SPARTE\").text = sector\n",
    "sap.session.findById(\"wnd[0]/usr/ctxtEANLD-SPARTE\").setFocus\n",
    "sap.session.findById(\"wnd[0]/usr/ctxtEANLD-SPARTE\").caretPosition = 2\n",
    "sap.session.findById(\"wnd[0]\").sendVKey(0)"
   ]
  },
  {
   "cell_type": "markdown",
   "metadata": {},
   "source": [
    "### Datos Iniciales"
   ]
  },
  {
   "cell_type": "code",
   "execution_count": 6,
   "metadata": {},
   "outputs": [],
   "source": [
    "sap.session.findById(\"wnd[0]/usr/ctxtEANLD-VSTELLE\").text = p_PS\n",
    "sap.session.findById(\"wnd[0]/usr/tblSAPLES30TC_TIMESL/ctxtEANLD-AKLASSE[2,0]\").text = clCal\n",
    "sap.session.findById(\"wnd[0]/usr/tblSAPLES30TC_TIMESL/ctxtEANLD-TARIFTYP[3,0]\").text = tp_tarifa\n",
    "sap.session.findById(\"wnd[0]/usr/tblSAPLES30TC_TIMESL/ctxtEANLD-ABLEINH[9,0]\").text = unidad_lectura\n",
    "sap.session.findById(\"wnd[0]/usr/ctxtEANLD-SPEBENE\").text = nivTension\n",
    "sap.session.findById(\"wnd[0]/usr/tblSAPLES30TC_TIMESL/ctxtEANLD-ABLEINH[9,0]\").setFocus\n",
    "sap.session.findById(\"wnd[0]/usr/tblSAPLES30TC_TIMESL/ctxtEANLD-ABLEINH[9,0]\").caretPosition = 5\n",
    "sap.session.findById(\"wnd[0]\").sendVKey(0)"
   ]
  },
  {
   "cell_type": "markdown",
   "metadata": {},
   "source": [
    "### Operandos"
   ]
  },
  {
   "cell_type": "markdown",
   "metadata": {},
   "source": [
    "#### RATE"
   ]
  },
  {
   "cell_type": "code",
   "execution_count": 7,
   "metadata": {},
   "outputs": [],
   "source": [
    "def carga_operando_rate(tipo, hasta, tarifa, tension):\n",
    "    if not elemento_presente(\"wnd[1]/usr/ctxtRE20B-OPERAND\"):\n",
    "        sap.session.findById(\"wnd[0]/tbar[1]/btn[18]\").press()\n",
    "    sap.session.findById(\"wnd[1]/usr/ctxtRE20B-OPERAND\").text = tipo\n",
    "    sap.session.findById(\"wnd[1]/usr/ctxtRE20B-OPERAND\").caretPosition = 10\n",
    "    sap.session.findById(\"wnd[1]/tbar[0]/btn[0]\").press()\n",
    "    sap.session.findById(\"wnd[1]/usr/tblSAPLE20CRTYPE_TC/ctxtRE20CL-BIS[1,0]\").text = hasta\n",
    "    sap.session.findById(\"wnd[1]/usr/tblSAPLE20CRTYPE_TC/ctxtRE20CL-TARIFART[2,0]\").text = tarifa\n",
    "    sap.session.findById(\"wnd[1]/usr/tblSAPLE20CRTYPE_TC/ctxtRE20CL-KONDIGR[3,0]\").text = tension\n",
    "    sap.session.findById(\"wnd[1]/usr/tblSAPLE20CRTYPE_TC/ctxtRE20CL-KONDIGR[3,0]\").setFocus()\n",
    "    sap.session.findById(\"wnd[1]/usr/tblSAPLE20CRTYPE_TC/ctxtRE20CL-KONDIGR[3,0]\").caretPosition = 4\n",
    "    sap.session.findById(\"wnd[1]/tbar[0]/btn[5]\").press()"
   ]
  },
  {
   "cell_type": "markdown",
   "metadata": {},
   "source": [
    "#### FLAGS"
   ]
  },
  {
   "cell_type": "code",
   "execution_count": 8,
   "metadata": {},
   "outputs": [],
   "source": [
    "def carga_flag(tipo, hasta):\n",
    "    if not elemento_presente(\"wnd[1]/usr/ctxtRE20B-OPERAND\"):\n",
    "        sap.session.findById(\"wnd[0]/tbar[1]/btn[18]\").press()\n",
    "    sap.session.findById(\"wnd[1]/usr/ctxtRE20B-OPERAND\").text = tipo\n",
    "    sap.session.findById(\"wnd[1]/usr/ctxtRE20B-OPERAND\").caretPosition = 9\n",
    "    sap.session.findById(\"wnd[1]/tbar[0]/btn[0]\").press()\n",
    "    sap.session.findById(\"wnd[1]/usr/tblSAPLE20CFLAG_TC/ctxtRE20CL-BIS[1,0]\").text = hasta\n",
    "    sap.session.findById(\"wnd[1]/usr/tblSAPLE20CFLAG_TC/chkRE20CL-BOOLKZ[2,0]\").setFocus()\n",
    "    sap.session.findById(\"wnd[1]/usr/tblSAPLE20CFLAG_TC/chkRE20CL-BOOLKZ[2,0]\").selected = True\n",
    "    sap.session.findById(\"wnd[1]/usr/tblSAPLE20CFLAG_TC/ctxtRE20CL-BIS[1,0]\").caretPosition = 10\n",
    "    sap.session.findById(\"wnd[1]/tbar[0]/btn[5]\").press()"
   ]
  },
  {
   "cell_type": "markdown",
   "metadata": {},
   "source": [
    "#### Carga Operandos"
   ]
  },
  {
   "cell_type": "code",
   "execution_count": 9,
   "metadata": {},
   "outputs": [],
   "source": [
    "sap.session.findById(\"wnd[0]/usr/btnEANLD-FACTSBUT\").press() \n",
    "\n",
    "for key, value in datos[\"Create_OPERAND\"].items():\n",
    "    if value[\"carga\"]:\n",
    "        if value[\"tipo\"] == \"RATE\":\n",
    "            carga_operando_rate(key, value[\"f_hasta\"], value[\"clase tarifa\"], value['grValoresConcretos'])\n",
    "        if value[\"tipo\"] == \"FLAG\":\n",
    "            carga_flag(key,value['hasta'])\n",
    "\n",
    "#Guarda Operandos\n",
    "sap.session.findById(\"wnd[0]/tbar[0]/btn[0]\").press()\n",
    "sap.session.findById(\"wnd[0]/tbar[0]/btn[3]\").press()"
   ]
  },
  {
   "cell_type": "markdown",
   "metadata": {},
   "source": [
    "### Guardar"
   ]
  },
  {
   "cell_type": "code",
   "execution_count": 10,
   "metadata": {},
   "outputs": [
    {
     "name": "stdout",
     "output_type": "stream",
     "text": [
      "Instalacion:  400002124\n"
     ]
    }
   ],
   "source": [
    "sap.session.findById(\"wnd[0]/tbar[0]/btn[11]\").press()\n",
    "sap.session.findById(\"wnd[0]/tbar[0]/okcd\").text = \"/nes32\"\n",
    "sap.session.findById(\"wnd[0]\").sendVKey(0)\n",
    "INS = sap.session.findById(\"wnd[0]/usr/ctxtEANLD-ANLAGE\").text\n",
    "\n",
    "print(\"Instalacion: \", INS)\n",
    "import json_magnament as j\n",
    "j.escribir_json('INS',INS)"
   ]
  },
  {
   "cell_type": "markdown",
   "metadata": {},
   "source": [
    "## Disconnect\n"
   ]
  },
  {
   "cell_type": "code",
   "execution_count": 78,
   "metadata": {},
   "outputs": [],
   "source": [
    "connection = None\n",
    "application = None  \n",
    "SapGuiAuto = None"
   ]
  }
 ],
 "metadata": {
  "kernelspec": {
   "display_name": "Python 3",
   "language": "python",
   "name": "python3"
  },
  "language_info": {
   "codemirror_mode": {
    "name": "ipython",
    "version": 3
   },
   "file_extension": ".py",
   "mimetype": "text/x-python",
   "name": "python",
   "nbconvert_exporter": "python",
   "pygments_lexer": "ipython3",
   "version": "3.11.4"
  }
 },
 "nbformat": 4,
 "nbformat_minor": 2
}
