{
 "cells": [
  {
   "cell_type": "markdown",
   "metadata": {},
   "source": [
    "# Python Script -  Create Cuenta Contrato"
   ]
  },
  {
   "cell_type": "code",
   "execution_count": 1,
   "metadata": {},
   "outputs": [],
   "source": [
    "import connect_sap as sap\n",
    "from datetime import datetime"
   ]
  },
  {
   "cell_type": "markdown",
   "metadata": {},
   "source": [
    "## Const"
   ]
  },
  {
   "cell_type": "code",
   "execution_count": 2,
   "metadata": {},
   "outputs": [],
   "source": [
    "folderdir = \"C:\\\\_tmp\\\\\"\n",
    "trxCreateCC = \"/nCAA1\"\n",
    "trxUpdateCC = \"/nCAA2\""
   ]
  },
  {
   "cell_type": "markdown",
   "metadata": {},
   "source": [
    "## Funciones"
   ]
  },
  {
   "cell_type": "code",
   "execution_count": 3,
   "metadata": {},
   "outputs": [],
   "source": [
    "def gen_nro_referencia(valor):\n",
    "    codigo_izquierda = valor[:1]\n",
    "    codigo_derecha = valor[-7:]\n",
    "    resultado = \"285\" + codigo_izquierda + \"9\" + codigo_derecha\n",
    "    return resultado"
   ]
  },
  {
   "cell_type": "markdown",
   "metadata": {},
   "source": [
    "## Run SAP Script"
   ]
  },
  {
   "cell_type": "markdown",
   "metadata": {},
   "source": [
    "### Parameters"
   ]
  },
  {
   "cell_type": "code",
   "execution_count": 4,
   "metadata": {},
   "outputs": [],
   "source": [
    "import json_magnament as j\n",
    "\n",
    "# DateTime execution\n",
    "now = datetime.now()\n",
    "date_string = now.strftime(\"-%Y%m%d_%H%M%S\")\n",
    "\n",
    "datos = j.read_json()\n",
    "\n",
    "#Datos para CC\n",
    "\n",
    "p_ic = datos['OBJETOS']['IC']\n",
    "p_oc = datos['OBJETOS']['OC']\n",
    "tp_cta_contrato = datos['Create_CC']['tp_cta_contrato']\n",
    "\n",
    "#Datos Generales CC\n",
    "p_estrRegion = datos['Create_CC']['estrRegion']\n",
    "nombreCC = datos['Create_CC']['nombre']\n",
    "cdc = datos['Create_CC']['cdc']\n",
    "catcta = datos['Create_CC']['catcta']\n",
    "condicion_pago = datos['Create_CC']['condicion_pago']\n",
    "\n",
    "#Datos Pagos/impuestos\n",
    "gpo_sociedades = datos['Create_CC']['gpo_sociedades']\n",
    "soc_std = datos['Create_CC']['soc_std']\n",
    "clase_impuesto = datos['Create_CC']['clase_impuesto']\n",
    "lugar_comercial = datos['Create_CC']['lugar_comercial']\n",
    "region = datos['Create_CC']['region']\n",
    "condado = datos['Create_CC']['condado']\n",
    "\n",
    "#Reclamacion \n",
    "proc_rec_tension = datos['Create_CC']['proc_rec_tension']"
   ]
  },
  {
   "cell_type": "markdown",
   "metadata": {},
   "source": [
    "### Ingresar Trx"
   ]
  },
  {
   "cell_type": "code",
   "execution_count": 5,
   "metadata": {},
   "outputs": [],
   "source": [
    "# In trx Create CC\n",
    "sap.session.findById(\"wnd[0]\").maximize()\n",
    "sap.session.findById(\"wnd[0]/tbar[0]/okcd\").text = trxCreateCC\n",
    "sap.session.findById(\"wnd[0]\").sendVKey(0)\n",
    "\n",
    "# Input IC / Tp_cta_contrato\n",
    "sap.session.findById(\"wnd[0]/usr/subA01P01:SAPLFKKC:0100/ctxtFKKVKP-GPART\").text = p_ic #Ingresa IC\n",
    "sap.session.findById(\"wnd[0]/usr/subA01P01:SAPLFKKC:0100/ctxtFKKVK-VKTYP\").setFocus()\n",
    "sap.session.findById(\"wnd[0]/usr/subA01P01:SAPLFKKC:0100/ctxtFKKVK-VKTYP\").text = tp_cta_contrato\n",
    "sap.session.findById(\"wnd[0]/usr/subA01P01:SAPLFKKC:0100/ctxtFKKVK-VKTYP\").setFocus\n",
    "sap.session.findById(\"wnd[0]/usr/subA01P01:SAPLFKKC:0100/ctxtFKKVK-VKTYP\").caretPosition = 2\n",
    "sap.session.findById(\"wnd[0]\").sendVKey(0)\n"
   ]
  },
  {
   "cell_type": "markdown",
   "metadata": {},
   "source": [
    "### Datos Generales"
   ]
  },
  {
   "cell_type": "code",
   "execution_count": 6,
   "metadata": {},
   "outputs": [],
   "source": [
    "sap.session.findById(\"wnd[0]/usr/tabsTABSTRIP1/tabpBUSCR01/ssubGENSUB:SAPLBUSS:7005/subA03P01:SAPLFKKC:0210/txtFKKVK-VKBEZ\").text = nombreCC\n",
    "sap.session.findById(\"wnd[0]/usr/tabsTABSTRIP1/tabpBUSCR01/ssubGENSUB:SAPLBUSS:7005/subA03P03:SAPLFKKC:0260/cmbFKKVKP-TOGRU\").key = \"Z001\"\n",
    "sap.session.findById(\"wnd[0]/usr/tabsTABSTRIP1/tabpBUSCR01/ssubGENSUB:SAPLBUSS:7005/subA03P03:SAPLFKKC:0260/cmbFKKVKP-IKEY\").key = \"50\"\n",
    "sap.session.findById(\"wnd[0]/usr/tabsTABSTRIP1/tabpBUSCR01/ssubGENSUB:SAPLBUSS:7005/subA03P04:SAPLES35:0320/ctxtSI_FKKVKPR-REGIOGR_CA_T\").text = p_estrRegion\n",
    "sap.session.findById(\"wnd[0]/usr/tabsTABSTRIP1/tabpBUSCR01/ssubGENSUB:SAPLBUSS:7005/subA03P04:SAPLES35:0320/ctxtSI_FKKVKPR-REGIOGR_CA_B\").text = p_estrRegion\n",
    "sap.session.findById(\"wnd[0]/usr/tabsTABSTRIP1/tabpBUSCR01/ssubGENSUB:SAPLBUSS:7005/subA03P03:SAPLFKKC:0260/cmbFKKVKP-VERTYP\").key = \"Z001\" #Tipo Compensacion\n",
    "sap.session.findById(\"wnd[0]/usr/tabsTABSTRIP1/tabpBUSCR01/ssubGENSUB:SAPLBUSS:7005/subA03P06:SAPLES35:0275/ctxtSI_FKKVKPSICA-ZAHLKOND\").text = condicion_pago\n",
    "sap.session.findById(\"wnd[0]/usr/tabsTABSTRIP1/tabpBUSCR01/ssubGENSUB:SAPLBUSS:7005/subA03P06:SAPLES35:0275/ctxtSI_FKKVKPR-KTOKL\").text = catcta\n",
    "sap.session.findById(\"wnd[0]/usr/tabsTABSTRIP1/tabpBUSCR01/ssubGENSUB:SAPLBUSS:7005/subA03P06:SAPLES35:0275/ctxtSI_FKKVKPSICA-KOFIZ_SD\").text = cdc\n",
    "sap.session.findById(\"wnd[0]/usr/tabsTABSTRIP1/tabpBUSCR01/ssubGENSUB:SAPLBUSS:7005/subA04P02:SAPLES35:0280/ctxtISU_FKKVKD-FORMKEY_CA\").text = \"ZFACTURA_GD\"\n",
    "sap.session.findById(\"wnd[0]/usr/tabsTABSTRIP1/tabpBUSCR02\").select()\n"
   ]
  },
  {
   "cell_type": "markdown",
   "metadata": {},
   "source": [
    "### Pagos/Impuestos"
   ]
  },
  {
   "cell_type": "code",
   "execution_count": 7,
   "metadata": {},
   "outputs": [],
   "source": [
    "#Pagos/Impuestos\n",
    "sap.session.findById(\"wnd[0]/usr/tabsTABSTRIP1/tabpBUSCR02/ssubGENSUB:SAPLBUSS:7038/subA02P01:SAPLFKKC:0300/ctxtFKKVKP-OPBUK\").text = gpo_sociedades\n",
    "sap.session.findById(\"wnd[0]/usr/tabsTABSTRIP1/tabpBUSCR02/ssubGENSUB:SAPLBUSS:7038/subA02P01:SAPLFKKC:0300/ctxtFKKVKP-STDBK\").text = soc_std\n",
    "sap.session.findById(\"wnd[0]/usr/tabsTABSTRIP1/tabpBUSCR02/ssubGENSUB:SAPLBUSS:7038/subA05P04:SAPLFKKC:0321/cmbFKKVKP-FITYP\").key = clase_impuesto\n",
    "sap.session.findById(\"wnd[0]/usr/tabsTABSTRIP1/tabpBUSCR02/ssubGENSUB:SAPLBUSS:7038/subA05P04:SAPLFKKC:0321/ctxtFKKVKP-PROVINCE\").text = region\n",
    "sap.session.findById(\"wnd[0]/usr/tabsTABSTRIP1/tabpBUSCR02/ssubGENSUB:SAPLBUSS:7038/subA05P04:SAPLFKKC:0321/ctxtFKKVKP-COUNTY\").text = condado\n",
    "sap.session.findById(\"wnd[0]/usr/tabsTABSTRIP1/tabpBUSCR02/ssubGENSUB:SAPLBUSS:7038/subA05P06:SAPLFKKC:0322/ctxtFKKVKP-BUPLA\").text = lugar_comercial\n",
    "sap.session.findById(\"wnd[0]/usr/tabsTABSTRIP1/tabpBUSCR02/ssubGENSUB:SAPLBUSS:7038/subA05P04:SAPLFKKC:0321/ctxtFKKVKP-COUNTY\").setFocus\n",
    "sap.session.findById(\"wnd[0]/usr/tabsTABSTRIP1/tabpBUSCR02/ssubGENSUB:SAPLBUSS:7038/subA05P04:SAPLFKKC:0321/ctxtFKKVKP-COUNTY\").caretPosition = 3\n",
    "sap.session.findById(\"wnd[0]/usr/tabsTABSTRIP1/tabpBUSCR03\").select()\n"
   ]
  },
  {
   "cell_type": "markdown",
   "metadata": {},
   "source": [
    "### Reclamacion"
   ]
  },
  {
   "cell_type": "code",
   "execution_count": 8,
   "metadata": {},
   "outputs": [],
   "source": [
    "sap.session.findById(\"wnd[0]/usr/tabsTABSTRIP1/tabpBUSCR03/ssubGENSUB:SAPLBUSS:7006/subA02P01:SAPLFKKC:0220/ctxtFKKVKP-ABWMA\").text = p_ic\n",
    "sap.session.findById(\"wnd[0]/usr/tabsTABSTRIP1/tabpBUSCR03/ssubGENSUB:SAPLBUSS:7006/subA02P01:SAPLFKKC:0220/cmbFKKVKP-MGRUP\").key = \"Z1\" #Reclamacion EPEL\n",
    "sap.session.findById(\"wnd[0]/usr/tabsTABSTRIP1/tabpBUSCR03/ssubGENSUB:SAPLBUSS:7006/subA02P01:SAPLFKKC:0220/cmbFKKVKP-MAHNV\").key = proc_rec_tension\n",
    "sap.session.findById(\"wnd[0]/usr/tabsTABSTRIP1/tabpBUSCR03/ssubGENSUB:SAPLBUSS:7006/subA03P02:SAPLES35:0240/ctxtSI_FKKVKPR-SENDCONTROL_GP\").text = \"MAIL\"\n",
    "sap.session.findById(\"wnd[0]/tbar[0]/btn[11]\").press()\n"
   ]
  },
  {
   "cell_type": "markdown",
   "metadata": {},
   "source": [
    "### Update CC"
   ]
  },
  {
   "cell_type": "code",
   "execution_count": 9,
   "metadata": {},
   "outputs": [
    {
     "name": "stdout",
     "output_type": "stream",
     "text": [
      "Cuenta Contrato creada:  700011224\n"
     ]
    }
   ],
   "source": [
    "sap.session.findById(\"wnd[0]/tbar[0]/okcd\").text = trxUpdateCC\n",
    "sap.session.findById(\"wnd[0]\").sendVKey(0)\n",
    "\n",
    "CC = sap.session.findById(\"wnd[0]/usr/subA01P01:SAPLFKKC:0100/ctxtFKKVKP-VKONT\").text\n",
    "sap.session.findById(\"wnd[0]\").sendVKey(0)\n",
    "\n",
    "\n",
    "nro_referencia = str(gen_nro_referencia(CC))\n",
    "sap.session.findById(\"wnd[0]/usr/tabsTABSTRIP1/tabpBUSCR01/ssubGENSUB:SAPLBUSS:7005/subA03P02:SAPLFKKC:0265/txtFKKVKP-EXVKO\").text = nro_referencia\n",
    "sap.session.findById(\"wnd[0]/tbar[0]/btn[11]\").press()\n",
    "sap.session.findById(\"wnd[0]/tbar[0]/btn[15]\").press()\n",
    "\n",
    "print(\"Cuenta Contrato creada: \", CC)\n",
    "import json_magnament as j\n",
    "j.escribir_json('CC',CC)\n"
   ]
  },
  {
   "cell_type": "markdown",
   "metadata": {},
   "source": [
    "## Disconnect"
   ]
  },
  {
   "cell_type": "code",
   "execution_count": 10,
   "metadata": {},
   "outputs": [],
   "source": [
    "#Disconnect\n",
    "connection = None\n",
    "application = None  \n",
    "SapGuiAuto = None"
   ]
  }
 ],
 "metadata": {
  "kernelspec": {
   "display_name": "Python 3",
   "language": "python",
   "name": "python3"
  },
  "language_info": {
   "codemirror_mode": {
    "name": "ipython",
    "version": 3
   },
   "file_extension": ".py",
   "mimetype": "text/x-python",
   "name": "python",
   "nbconvert_exporter": "python",
   "pygments_lexer": "ipython3",
   "version": "3.11.4"
  }
 },
 "nbformat": 4,
 "nbformat_minor": 2
}
