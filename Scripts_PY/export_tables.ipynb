{
 "cells": [
  {
   "cell_type": "markdown",
   "metadata": {},
   "source": [
    "# Python Script - Export SAP Tables"
   ]
  },
  {
   "cell_type": "markdown",
   "metadata": {},
   "source": [
    "## Imports"
   ]
  },
  {
   "cell_type": "code",
   "execution_count": null,
   "metadata": {},
   "outputs": [],
   "source": [
    "import win32com.client\n",
    "from datetime import datetime\n",
    "import subprocess"
   ]
  },
  {
   "cell_type": "markdown",
   "metadata": {},
   "source": [
    "## Connect SAP GUI"
   ]
  },
  {
   "cell_type": "code",
   "execution_count": 2,
   "metadata": {},
   "outputs": [],
   "source": [
    "SapGuiAuto = win32com.client.GetObject('SAPGUI')\n",
    "application = SapGuiAuto.GetScriptingEngine\n",
    "connection = application.Children(0)\n",
    "session = connection.Children(0)"
   ]
  },
  {
   "cell_type": "markdown",
   "metadata": {},
   "source": [
    "## Parameters"
   ]
  },
  {
   "cell_type": "code",
   "execution_count": 5,
   "metadata": {},
   "outputs": [],
   "source": [
    "SAPtables = [\"M_FVKPA\",\"BUT000\"]\n",
    "folderdir = \"C:\\\\_tmp\\\\\""
   ]
  },
  {
   "cell_type": "markdown",
   "metadata": {},
   "source": [
    "## Run SAP Script"
   ]
  },
  {
   "cell_type": "code",
   "execution_count": 19,
   "metadata": {},
   "outputs": [],
   "source": [
    "now = datetime.now()\n",
    "date_string = now.strftime(\"-%Y%m%d_%H%M%S\")\n",
    "\n",
    "# TRX - SE16N\n",
    "session.findById(\"wnd[0]\").maximize()\n",
    "session.findById(\"wnd[0]/tbar[0]/okcd\").text = \"/nSE16N\"\n",
    "session.findById(\"wnd[0]\").sendVKey(0)\n",
    "\n",
    "# Ingresa Tabla\n",
    "\n",
    "for table in SAPtables:\n",
    "    session.findById(\"wnd[0]/usr/ctxtGD-TAB\").text = table\n",
    "    session.findById(\"wnd[0]/usr/txtGD-MAX_LINES\").text = \"50\"\n",
    "    session.findById(\"wnd[0]/usr/txtGD-MAX_LINES\").setFocus()\n",
    "    session.findById(\"wnd[0]/usr/txtGD-MAX_LINES\").caretPosition = 4\n",
    "    session.findById(\"wnd[0]/tbar[1]/btn[8]\").press()\n",
    "    session.findById(\"wnd[0]/usr/cntlRESULT_LIST/shellcont/shell\").pressToolbarContextButton(\"&MB_EXPORT\")\n",
    "    session.findById(\"wnd[0]/usr/cntlRESULT_LIST/shellcont/shell\").selectContextMenuItem(\"&XXL\")\n",
    "    session.findById(\"wnd[1]/tbar[0]/btn[0]\").press()\n",
    "    session.findById(\"wnd[1]/usr/ctxtDY_PATH\").text = folderdir\n",
    "    session.findById(\"wnd[1]/usr/ctxtDY_FILENAME\").text = table + date_string + \".XLSX\"\n",
    "    session.findById(\"wnd[1]/usr/ctxtDY_FILENAME\").caretPosition = 5\n",
    "    session.findById(\"wnd[1]/tbar[0]/btn[0]\").press()\n",
    "    session.findById(\"wnd[0]/tbar[0]/btn[15]\").press()\n",
    "\n",
    "connection = None\n",
    "application = None\n",
    "SapGuiAuto = None"
   ]
  }
 ],
 "metadata": {
  "kernelspec": {
   "display_name": "Python 3",
   "language": "python",
   "name": "python3"
  },
  "language_info": {
   "codemirror_mode": {
    "name": "ipython",
    "version": 3
   },
   "file_extension": ".py",
   "mimetype": "text/x-python",
   "name": "python",
   "nbconvert_exporter": "python",
   "pygments_lexer": "ipython3",
   "version": "3.11.4"
  }
 },
 "nbformat": 4,
 "nbformat_minor": 2
}
