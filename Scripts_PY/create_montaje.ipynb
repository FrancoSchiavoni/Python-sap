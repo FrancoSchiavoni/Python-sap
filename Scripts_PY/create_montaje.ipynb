{
 "cells": [
  {
   "cell_type": "markdown",
   "metadata": {},
   "source": [
    "# Python Script -  Create Montaje"
   ]
  },
  {
   "cell_type": "code",
   "execution_count": 6,
   "metadata": {},
   "outputs": [],
   "source": [
    "import connect_sap as sap"
   ]
  },
  {
   "cell_type": "markdown",
   "metadata": {},
   "source": [
    "## Const"
   ]
  },
  {
   "cell_type": "code",
   "execution_count": 7,
   "metadata": {},
   "outputs": [],
   "source": [
    "folderdir = \"C:\\\\_tmp\\\\\"\n",
    "trxCreateMON = \"/nEG31\""
   ]
  },
  {
   "cell_type": "markdown",
   "metadata": {},
   "source": [
    "## Run SAP Script"
   ]
  },
  {
   "cell_type": "markdown",
   "metadata": {},
   "source": [
    "### Parameters"
   ]
  },
  {
   "cell_type": "code",
   "execution_count": 8,
   "metadata": {},
   "outputs": [],
   "source": [
    "# DateTime execution\n",
    "from datetime import datetime\n",
    "now = datetime.now()\n",
    "date_string = now.strftime(\"-%Y%m%d_%H%M%S\")\n",
    "\n",
    "import json_magnament as j\n",
    "\n",
    "# DateTime execution\n",
    "now = datetime.now()\n",
    "date_string = now.strftime(\"-%Y%m%d_%H%M%S\")\n",
    "\n",
    "datos = j.read_json()\n",
    "\n",
    "#Objetos\n",
    "\n",
    "UA = datos['OBJETOS']['UA']\n",
    "INS = datos['OBJETOS']['INS']\n",
    "\n",
    "#Datos para MONTAJE\n",
    "f_alta = datos['Create_montaje']['f_alta']\n",
    "dipositivo = datos['Create_montaje']['dipositivo']\n",
    "tp_aparato = datos['Create_montaje']['tp_aparato']\n",
    "motivo = datos['Create_montaje']['motivo']"
   ]
  },
  {
   "cell_type": "markdown",
   "metadata": {},
   "source": [
    "### Ingresar Trx"
   ]
  },
  {
   "cell_type": "code",
   "execution_count": 9,
   "metadata": {},
   "outputs": [],
   "source": [
    "# In trx Create PS\n",
    "sap.session.findById(\"wnd[0]\").maximize()\n",
    "sap.session.findById(\"wnd[0]/tbar[0]/okcd\").text = trxCreateMON\n",
    "sap.session.findById(\"wnd[0]\").sendVKey(0)"
   ]
  },
  {
   "cell_type": "markdown",
   "metadata": {},
   "source": [
    "### Datos Generales"
   ]
  },
  {
   "cell_type": "code",
   "execution_count": 10,
   "metadata": {},
   "outputs": [],
   "source": [
    "sap.session.findById(\"wnd[0]/usr/ctxtREG30-DEVLOC\").text = UA\n",
    "sap.session.findById(\"wnd[0]/usr/ctxtREG30-ANLAGE\").text = INS\n",
    "sap.session.findById(\"wnd[0]/usr/ctxtREG30-EADAT\").text = f_alta\n",
    "sap.session.findById(\"wnd[0]/usr/ctxtREG30-GERAETNEU\").text = dipositivo\n",
    "sap.session.findById(\"wnd[0]/usr/ctxtREG30-MATNR\").text = tp_aparato\n",
    "sap.session.findById(\"wnd[0]/usr/ctxtREG30-MATNR\").setFocus()\n",
    "sap.session.findById(\"wnd[0]/usr/ctxtREG30-MATNR\").caretPosition = 6\n",
    "sap.session.findById(\"wnd[0]/tbar[0]/btn[0]\").press()\n",
    "sap.session.findById(\"wnd[0]/usr/ctxtREG30-GERWECHS\").text = motivo\n",
    "sap.session.findById(\"wnd[0]/usr/ctxtREG30-GERWECHS\").caretPosition = 2"
   ]
  },
  {
   "cell_type": "markdown",
   "metadata": {},
   "source": [
    "### Numeradores"
   ]
  },
  {
   "cell_type": "code",
   "execution_count": 11,
   "metadata": {},
   "outputs": [],
   "source": [
    "sap.session.findById(\"wnd[0]/usr/tblSAPLE30DCONTROL_RE_INST/ctxtREG30-TARIFART[9,0]\").text = \"ENACTRE\"\n",
    "sap.session.findById(\"wnd[0]/usr/tblSAPLE30DCONTROL_RE_INST/ctxtREG30-KONDIGRE[10,0]\").text = \"GENERALES\"\n",
    "sap.session.findById(\"wnd[0]/usr/tblSAPLE30DCONTROL_RE_INST/ctxtREG30-KONDIGRE[10,0]\").setFocus()\n",
    "sap.session.findById(\"wnd[0]/usr/tblSAPLE30DCONTROL_RE_INST/ctxtREG30-KONDIGRE[10,0]\").caretPosition = 9\n",
    "sap.session.findById(\"wnd[0]/usr/tblSAPLE30DCONTROL_RE_INST\").verticalScrollbar.position = 3\n",
    "sap.session.findById(\"wnd[0]/usr/tblSAPLE30DCONTROL_RE_INST\").verticalScrollbar.position = 7\n",
    "sap.session.findById(\"wnd[0]/usr/tblSAPLE30DCONTROL_RE_INST/txtREG30-PERVERBR[7,0]\").text = \"0\"\n",
    "sap.session.findById(\"wnd[0]/usr/tblSAPLE30DCONTROL_RE_INST/txtREG30-PERVERBR[7,1]\").text = \"0\"\n",
    "sap.session.findById(\"wnd[0]/usr/tblSAPLE30DCONTROL_RE_INST/txtREG30-PERVERBR[7,2]\").text = \"0\"\n",
    "sap.session.findById(\"wnd[0]/usr/tblSAPLE30DCONTROL_RE_INST/txtREG30-PERVERBR[7,4]\").text = \"0\"\n",
    "sap.session.findById(\"wnd[0]/usr/tblSAPLE30DCONTROL_RE_INST/txtREG30-PERVERBR[7,5]\").text = \"0\"\n",
    "sap.session.findById(\"wnd[0]/usr/tblSAPLE30DCONTROL_RE_INST/ctxtREG30-TARIFART[9,0]\").text = \"ENACTP\"\n",
    "sap.session.findById(\"wnd[0]/usr/tblSAPLE30DCONTROL_RE_INST/ctxtREG30-TARIFART[9,1]\").text = \"CAPPI\"\n",
    "sap.session.findById(\"wnd[0]/usr/tblSAPLE30DCONTROL_RE_INST/ctxtREG30-TARIFART[9,2]\").text = \"ENACTV\"\n",
    "sap.session.findById(\"wnd[0]/usr/tblSAPLE30DCONTROL_RE_INST/ctxtREG30-TARIFART[9,4]\").text = \"ENREACT\"\n",
    "sap.session.findById(\"wnd[0]/usr/tblSAPLE30DCONTROL_RE_INST/ctxtREG30-TARIFART[9,5]\").text = \"CAPFP\"\n",
    "sap.session.findById(\"wnd[0]/usr/tblSAPLE30DCONTROL_RE_INST/ctxtREG30-KONDIGRE[10,0]\").text = \"GENERALES\"\n",
    "sap.session.findById(\"wnd[0]/usr/tblSAPLE30DCONTROL_RE_INST/ctxtREG30-KONDIGRE[10,1]\").text = \"GENERALES\"\n",
    "sap.session.findById(\"wnd[0]/usr/tblSAPLE30DCONTROL_RE_INST/ctxtREG30-KONDIGRE[10,2]\").text = \"GENERALES\"\n",
    "sap.session.findById(\"wnd[0]/usr/tblSAPLE30DCONTROL_RE_INST/ctxtREG30-KONDIGRE[10,4]\").text = \"GENERALES\"\n",
    "sap.session.findById(\"wnd[0]/usr/tblSAPLE30DCONTROL_RE_INST/ctxtREG30-KONDIGRE[10,5]\").text = \"GENERALES\"\n",
    "sap.session.findById(\"wnd[0]/usr/tblSAPLE30DCONTROL_RE_INST/txtREG30-PERVERBR[7,0]\").setFocus()\n",
    "sap.session.findById(\"wnd[0]/usr/tblSAPLE30DCONTROL_RE_INST/txtREG30-PERVERBR[7,0]\").caretPosition = 1\n",
    "sap.session.findById(\"wnd[0]/usr/tblSAPLE30DCONTROL_RE_INST\").verticalScrollbar.position = 0\n",
    "sap.session.findById(\"wnd[0]/usr/tblSAPLE30DCONTROL_RE_INST/txtREG30-PERVERBR[7,0]\").text = \"0\"\n",
    "sap.session.findById(\"wnd[0]/usr/tblSAPLE30DCONTROL_RE_INST/txtREG30-PERVERBR[7,0]\").caretPosition = 1\n",
    "sap.session.findById(\"wnd[0]/tbar[1]/btn[32]\").press()\n",
    "sap.session.findById(\"wnd[0]/usr/tblSAPLEL01CONTROL_SINGENT/txtREABLD-ZWSTAND[6,0]\").text = \"0\"\n",
    "sap.session.findById(\"wnd[0]/usr/tblSAPLEL01CONTROL_SINGENT/txtREABLD-ZWSTAND[6,1]\").text = \"0\"\n",
    "sap.session.findById(\"wnd[0]/usr/tblSAPLEL01CONTROL_SINGENT/txtREABLD-ZWSTAND[6,2]\").text = \"0\"\n",
    "sap.session.findById(\"wnd[0]/usr/tblSAPLEL01CONTROL_SINGENT/txtREABLD-ZWSTAND[6,3]\").text = \"0\"\n",
    "sap.session.findById(\"wnd[0]/usr/tblSAPLEL01CONTROL_SINGENT/txtREABLD-ZWSTAND[6,4]\").text = \"0\"\n",
    "sap.session.findById(\"wnd[0]/usr/tblSAPLEL01CONTROL_SINGENT/txtREABLD-ZWSTAND[6,5]\").text = \"0\"\n",
    "sap.session.findById(\"wnd[0]/usr/tblSAPLEL01CONTROL_SINGENT/txtREABLD-ZWSTAND[6,6]\").text = \"0\"\n",
    "sap.session.findById(\"wnd[0]/usr/tblSAPLEL01CONTROL_SINGENT/txtREABLD-ZWSTAND[6,7]\").text = \"0\"\n",
    "sap.session.findById(\"wnd[0]/usr/tblSAPLEL01CONTROL_SINGENT/txtREABLD-ZWSTAND[6,7]\").setFocus()\n",
    "sap.session.findById(\"wnd[0]/usr/tblSAPLEL01CONTROL_SINGENT/txtREABLD-ZWSTAND[6,7]\").caretPosition = 1\n",
    "sap.session.findById(\"wnd[0]/tbar[0]/btn[0]\").press()\n",
    "sap.session.findById(\"wnd[0]/tbar[0]/btn[3]\").press()"
   ]
  },
  {
   "cell_type": "markdown",
   "metadata": {},
   "source": [
    "### Guardar"
   ]
  },
  {
   "cell_type": "code",
   "execution_count": 12,
   "metadata": {},
   "outputs": [],
   "source": [
    "sap.session.findById(\"wnd[0]/tbar[0]/btn[11]\").press()"
   ]
  },
  {
   "cell_type": "markdown",
   "metadata": {},
   "source": [
    "## Disconnect"
   ]
  },
  {
   "cell_type": "code",
   "execution_count": 13,
   "metadata": {},
   "outputs": [],
   "source": [
    "#Disconnect\n",
    "connection = None\n",
    "application = None  \n",
    "SapGuiAuto = None"
   ]
  }
 ],
 "metadata": {
  "kernelspec": {
   "display_name": "Python 3",
   "language": "python",
   "name": "python3"
  },
  "language_info": {
   "codemirror_mode": {
    "name": "ipython",
    "version": 3
   },
   "file_extension": ".py",
   "mimetype": "text/x-python",
   "name": "python",
   "nbconvert_exporter": "python",
   "pygments_lexer": "ipython3",
   "version": "3.11.4"
  }
 },
 "nbformat": 4,
 "nbformat_minor": 2
}
