{
 "cells": [
  {
   "cell_type": "markdown",
   "metadata": {},
   "source": [
    "# Comparacion de precios de Facturas"
   ]
  },
  {
   "cell_type": "markdown",
   "metadata": {},
   "source": [
    "## Imports"
   ]
  },
  {
   "cell_type": "code",
   "execution_count": 18,
   "metadata": {},
   "outputs": [],
   "source": [
    "import pandas as pd\n",
    "from google.auth.credentials import Credentials\n",
    "from googleapiclient.discovery import build\n",
    "from google.oauth2 import service_account"
   ]
  },
  {
   "cell_type": "markdown",
   "metadata": {},
   "source": [
    "## Levantar XLSX de Facturacion"
   ]
  },
  {
   "cell_type": "code",
   "execution_count": 19,
   "metadata": {},
   "outputs": [],
   "source": [
    "# Especifica las columnas que deseas seleccionar\n",
    "#columnas_a_seleccionar = ['Nº doc.impresión', 'Importe', 'Fecha de documento','Cuenta contrato','Creado por', 'Creado el',\n",
    "                          #'Documento anulado', 'Nº doc.anulación', 'FI-CA contabilizado']\n",
    "\n",
    "# Lee el archivo XLSX y selecciona solo las columnas especificadas\n",
    "facturas_sap = pd.read_excel(\"C:\\\\Github\\\\Python-sap\\\\Outputs\\\\descargar_tablas\\\\ERDK-20240429_104135.XLSX\")\n",
    "                            #, usecols=columnas_a_seleccionar)\n",
    "\n",
    "#for columns in facturas_sap.columns:\n",
    "#    print(columns)\n",
    "\n",
    "\n",
    "# Filtro Facturas \n",
    "#facturas_sap = facturas_sap.loc[facturas_sap['Creado por'] == \"20335620527\"]\n",
    "#facturas_sap = facturas_sap.loc[facturas_sap['Creado el'] >= \"2024-04-18\"]\n",
    "#facturas_sap = facturas_sap.loc[facturas_sap['Documento anulado'] != \"X\"]\n",
    "#facturas_sap = facturas_sap.loc[pd.isna(facturas_sap['Nº doc.anulación'])]\n",
    "#facturas_sap = facturas_sap.loc[pd.notna(facturas_sap['FI-CA contabilizado'])]\n",
    "\n",
    "facturas_sap = facturas_sap.loc[facturas_sap['Fe.contabilización'] >= \"2022-02-10\"]\n",
    "facturas_sap = facturas_sap.loc[facturas_sap['Fe.contabilización'] <= \"2022-02-18\"]\n",
    "facturas_sap = facturas_sap.sort_values(by='Fecha de documento', ascending=False)\n",
    "\n",
    "pd.DataFrame.to_csv(facturas_sap, \"C:\\\\Github\\\\Python-sap\\\\Scripts_PY\\\\facturas.csv\" )"
   ]
  }
 ],
 "metadata": {
  "kernelspec": {
   "display_name": "Python 3",
   "language": "python",
   "name": "python3"
  },
  "language_info": {
   "codemirror_mode": {
    "name": "ipython",
    "version": 3
   },
   "file_extension": ".py",
   "mimetype": "text/x-python",
   "name": "python",
   "nbconvert_exporter": "python",
   "pygments_lexer": "ipython3",
   "version": "3.11.4"
  }
 },
 "nbformat": 4,
 "nbformat_minor": 2
}
