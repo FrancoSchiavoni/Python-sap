{
 "cells": [
  {
   "cell_type": "markdown",
   "metadata": {},
   "source": [
    "# Python Script -  Create Move IN"
   ]
  },
  {
   "cell_type": "code",
   "execution_count": 1,
   "metadata": {},
   "outputs": [],
   "source": [
    "import connect_sap as sap\n",
    "from datetime import datetime"
   ]
  },
  {
   "cell_type": "markdown",
   "metadata": {},
   "source": [
    "## Const"
   ]
  },
  {
   "cell_type": "code",
   "execution_count": 2,
   "metadata": {},
   "outputs": [],
   "source": [
    "folderdir = \"C:\\\\_tmp\\\\\"\n",
    "trxCreateMovein = \"/nEC50E\""
   ]
  },
  {
   "cell_type": "markdown",
   "metadata": {},
   "source": [
    "## Funciones"
   ]
  },
  {
   "cell_type": "markdown",
   "metadata": {},
   "source": [
    "## Run SAP Script"
   ]
  },
  {
   "cell_type": "markdown",
   "metadata": {},
   "source": [
    "### Parameters"
   ]
  },
  {
   "cell_type": "code",
   "execution_count": 3,
   "metadata": {},
   "outputs": [],
   "source": [
    "# DateTime execution\n",
    "now = datetime.now()\n",
    "date_string = now.strftime(\"-%Y%m%d_%H%M%S\")\n",
    "\n",
    "import json_magnament as j\n",
    "datos = j.read_json()\n",
    "\n",
    "#Objetos\n",
    "CC = datos['OBJETOS']['CC']\n",
    "INS = datos['OBJETOS']['INS']\n",
    "PS = datos['OBJETOS']['PS'] \n",
    "\n",
    "#Datos para MOVE-IN\n",
    "f_alta = datos['Create_movein']['f_alta']\n",
    "imputacion = datos['Create_movein']['imputacion']\n",
    "segmento = datos['Create_movein']['segmento']\n",
    "cdc = datos['Create_movein']['cdc']\n",
    "fac_conj = datos['Create_movein']['fac_conj']"
   ]
  },
  {
   "cell_type": "markdown",
   "metadata": {},
   "source": [
    "### Ingresar Trx"
   ]
  },
  {
   "cell_type": "code",
   "execution_count": 4,
   "metadata": {},
   "outputs": [],
   "source": [
    "# In trx Create PS\n",
    "sap.session.findById(\"wnd[0]\").maximize()\n",
    "sap.session.findById(\"wnd[0]/tbar[0]/okcd\").text = trxCreateMovein\n",
    "sap.session.findById(\"wnd[0]\").sendVKey(0)"
   ]
  },
  {
   "cell_type": "markdown",
   "metadata": {},
   "source": [
    "### Carga Datos"
   ]
  },
  {
   "cell_type": "code",
   "execution_count": 5,
   "metadata": {},
   "outputs": [],
   "source": [
    "sap.session.findById(\"wnd[0]/usr/subMIMOTABSTRIP:SAPLEC60:1120/subMIKOPF:SAPLEC60:1002/ctxtEUMZDKOPF-EINZDAT\").text = f_alta\n",
    "sap.session.findById(\"wnd[0]/usr/subMIMOTABSTRIP:SAPLEC60:1120/subMIGP:SAPLEC60:1121/ctxtEUMZDMIBP-VKONT\").text = CC\n",
    "sap.session.findById(\"wnd[0]/usr/subMIMOTABSTRIP:SAPLEC60:1120/subMIVS:SAPLEC60:1118/subVBST:SAPLEC60:1122/ctxtEUMZDMIVBS-VSTELLE\").text = PS\n",
    "sap.session.findById(\"wnd[0]/usr/subMIMOTABSTRIP:SAPLEC60:1120/subMIVS:SAPLEC60:1118/subVBST:SAPLEC60:1122/ctxtEUMZDMIVBS-ANLAGE\").text = INS\n"
   ]
  },
  {
   "cell_type": "code",
   "execution_count": 6,
   "metadata": {},
   "outputs": [],
   "source": [
    "#Alta y vuelve\n",
    "sap.session.findById(\"wnd[0]/usr/subMIMOTABSTRIP:SAPLEC60:1120/subMIKOPF:SAPLEC60:1002/ctxtEUMZDKOPF-EINZDAT\").caretPosition = 10\n",
    "sap.session.findById(\"wnd[0]\").sendVKey(0)\n",
    "sap.session.findById(\"wnd[1]/tbar[0]/btn[0]\").press()\n",
    "sap.session.findById(\"wnd[0]/tbar[0]/btn[3]\").press()\n"
   ]
  },
  {
   "cell_type": "markdown",
   "metadata": {},
   "source": [
    "### Contratos"
   ]
  },
  {
   "cell_type": "code",
   "execution_count": 7,
   "metadata": {},
   "outputs": [],
   "source": [
    "sap.session.findById(\"wnd[0]/usr/subTABSTRIP:SAPLATAB:0100/tabsTABSTRIP100/tabpTAB05\").select()\n",
    "sap.session.findById(\"wnd[0]/usr/subTABSTRIP:SAPLATAB:0100/tabsTABSTRIP100/tabpTAB05/ssubSUBSC:SAPLATAB:0201/subAREA1:SAPLEC50_CONTR:0100/tabsCONTRDTABSTRIP/tabp041B01/ssubCONTRDSUB:SAPLEC50_CONTR:0300/subSUB01:SAPLES20:0502/ctxtEVERD-COKEY\").text = imputacion\n",
    "sap.session.findById(\"wnd[0]/usr/subTABSTRIP:SAPLATAB:0100/tabsTABSTRIP100/tabpTAB05/ssubSUBSC:SAPLATAB:0201/subAREA1:SAPLEC50_CONTR:0100/tabsCONTRDTABSTRIP/tabp041B01/ssubCONTRDSUB:SAPLEC50_CONTR:0300/subSUB01:SAPLES20:0502/ctxtEVERD-SEGMENT\").text = segmento\n",
    "sap.session.findById(\"wnd[0]/usr/subTABSTRIP:SAPLATAB:0100/tabsTABSTRIP100/tabpTAB05/ssubSUBSC:SAPLATAB:0201/subAREA1:SAPLEC50_CONTR:0100/tabsCONTRDTABSTRIP/tabp041B01/ssubCONTRDSUB:SAPLEC50_CONTR:0300/subSUB02:SAPLES20:0501/ctxtEVERD-KOFIZ\").text = cdc\n",
    "sap.session.findById(\"wnd[0]/usr/subTABSTRIP:SAPLATAB:0100/tabsTABSTRIP100/tabpTAB05/ssubSUBSC:SAPLATAB:0201/subAREA1:SAPLEC50_CONTR:0100/tabsCONTRDTABSTRIP/tabp041B01/ssubCONTRDSUB:SAPLEC50_CONTR:0300/subSUB02:SAPLES20:0501/ctxtEVERD-GEMFAKT\").text = fac_conj"
   ]
  },
  {
   "cell_type": "markdown",
   "metadata": {},
   "source": [
    "### Guardar"
   ]
  },
  {
   "cell_type": "code",
   "execution_count": null,
   "metadata": {},
   "outputs": [],
   "source": [
    "sap.session.findById(\"wnd[0]/tbar[0]/btn[11]\").press()\n",
    "sap.session.findById(\"wnd[0]/tbar[0]/btn[0]\").press()\n",
    "sap.session.findById(\"wnd[0]/tbar[0]/btn[15]\").press()\n",
    "sap.session.findById(\"wnd[0]/usr/subMIMOTABSTRIP:SAPLEC60:1120/subMIKOPF:SAPLEC60:1002/ctxtEUMZDKOPF-ZULEINZBEL\").setFocus()\n",
    "\n",
    "sap.session.findById(\"wnd[0]/tbar[0]/okcd\").text = \"/nES32\"\n",
    "sap.session.findById(\"wnd[0]/tbar[0]/btn[0]\").press()\n",
    "sap.session.findById(\"wnd[0]/usr/ctxtEANLD-ANLAGE\").text = INS\n",
    "sap.session.findById(\"wnd[0]\").sendVKey(0)\n",
    "CONTRATO = sap.session.findById(\"wnd[0]/usr/txtEANLD-VERTRAG\").text\n",
    "print(\"Contrato SAP: \", CONTRATO)\n",
    "import json_magnament as j\n",
    "j.escribir_json('CONTRATO',CONTRATO)\n",
    "\n"
   ]
  },
  {
   "cell_type": "markdown",
   "metadata": {},
   "source": [
    "## Disconnect"
   ]
  },
  {
   "cell_type": "code",
   "execution_count": null,
   "metadata": {},
   "outputs": [],
   "source": [
    "#Disconnect\n",
    "connection = None\n",
    "application = None  \n",
    "SapGuiAuto = None"
   ]
  }
 ],
 "metadata": {
  "kernelspec": {
   "display_name": "Python 3",
   "language": "python",
   "name": "python3"
  },
  "language_info": {
   "codemirror_mode": {
    "name": "ipython",
    "version": 3
   },
   "file_extension": ".py",
   "mimetype": "text/x-python",
   "name": "python",
   "nbconvert_exporter": "python",
   "pygments_lexer": "ipython3",
   "version": "3.11.4"
  }
 },
 "nbformat": 4,
 "nbformat_minor": 2
}
