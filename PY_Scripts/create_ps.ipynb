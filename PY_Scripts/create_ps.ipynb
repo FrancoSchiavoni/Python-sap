{
 "cells": [
  {
   "cell_type": "markdown",
   "metadata": {},
   "source": [
    "# Python Script -  Create Punto de Suministro"
   ]
  },
  {
   "cell_type": "code",
   "execution_count": 1,
   "metadata": {},
   "outputs": [],
   "source": [
    "import connect_sap as sap"
   ]
  },
  {
   "cell_type": "markdown",
   "metadata": {},
   "source": [
    "## Const"
   ]
  },
  {
   "cell_type": "code",
   "execution_count": 2,
   "metadata": {},
   "outputs": [],
   "source": [
    "folderdir = \"C:\\\\_tmp\\\\\"\n",
    "trxCreatePS = \"/nES60\"\n",
    "trxUpdatePS = \"/nES61\""
   ]
  },
  {
   "cell_type": "markdown",
   "metadata": {},
   "source": [
    "## Run SAP Script"
   ]
  },
  {
   "cell_type": "markdown",
   "metadata": {},
   "source": [
    "### Parameters"
   ]
  },
  {
   "cell_type": "code",
   "execution_count": 3,
   "metadata": {},
   "outputs": [],
   "source": [
    "# DateTime execution\n",
    "from datetime import datetime\n",
    "now = datetime.now()\n",
    "date_string = now.strftime(\"-%Y%m%d_%H%M%S\")\n",
    "\n",
    "import json_magnament as j\n",
    "\n",
    "# DateTime execution\n",
    "now = datetime.now()\n",
    "date_string = now.strftime(\"-%Y%m%d_%H%M%S\")\n",
    "\n",
    "datos = j.read_json()\n",
    "\n",
    "#Datos para PS\n",
    "p_oc = datos['OBJETOS']['OC']\n",
    "clae = datos['Create_PS']['clae']"
   ]
  },
  {
   "cell_type": "markdown",
   "metadata": {},
   "source": [
    "### Ingresar Trx"
   ]
  },
  {
   "cell_type": "code",
   "execution_count": 4,
   "metadata": {},
   "outputs": [],
   "source": [
    "# In trx Create PS\n",
    "sap.session.findById(\"wnd[0]\").maximize()\n",
    "sap.session.findById(\"wnd[0]/tbar[0]/okcd\").text = trxCreatePS\n",
    "sap.session.findById(\"wnd[0]\").sendVKey(0)"
   ]
  },
  {
   "cell_type": "markdown",
   "metadata": {},
   "source": [
    "### Datos Generales"
   ]
  },
  {
   "cell_type": "code",
   "execution_count": 5,
   "metadata": {},
   "outputs": [],
   "source": [
    "sap.session.findById(\"wnd[0]\").sendVKey(0)\n",
    "sap.session.findById(\"wnd[0]/usr/ctxtEVBSD-HAUS\").text = p_oc\n",
    "sap.session.findById(\"wnd[0]/usr/ctxtEVBSD-VBSART\").text = clae\n",
    "sap.session.findById(\"wnd[0]/usr/ctxtEVBSD-VBSART\").caretPosition = 6\n",
    "sap.session.findById(\"wnd[0]/tbar[0]/btn[11]\").press()"
   ]
  },
  {
   "cell_type": "markdown",
   "metadata": {},
   "source": [
    "### Update CC"
   ]
  },
  {
   "cell_type": "code",
   "execution_count": 6,
   "metadata": {},
   "outputs": [
    {
     "name": "stdout",
     "output_type": "stream",
     "text": [
      "Punto de suministro:  600002145\n"
     ]
    }
   ],
   "source": [
    "sap.session.findById(\"wnd[0]/tbar[0]/okcd\").text = \"/nES61\"\n",
    "sap.session.findById(\"wnd[0]\").sendVKey (0)\n",
    "PS = sap.session.findById(\"wnd[0]/usr/ctxtEVBSD-VSTELLE\").text\n",
    "print(\"Punto de suministro: \", PS)\n",
    "import json_magnament as j\n",
    "j.escribir_json('PS',PS)"
   ]
  },
  {
   "cell_type": "markdown",
   "metadata": {},
   "source": [
    "## Disconnect"
   ]
  },
  {
   "cell_type": "code",
   "execution_count": 7,
   "metadata": {},
   "outputs": [],
   "source": [
    "#Disconnect\n",
    "connection = None\n",
    "application = None  \n",
    "SapGuiAuto = None"
   ]
  }
 ],
 "metadata": {
  "kernelspec": {
   "display_name": "Python 3",
   "language": "python",
   "name": "python3"
  },
  "language_info": {
   "codemirror_mode": {
    "name": "ipython",
    "version": 3
   },
   "file_extension": ".py",
   "mimetype": "text/x-python",
   "name": "python",
   "nbconvert_exporter": "python",
   "pygments_lexer": "ipython3",
   "version": "3.11.4"
  }
 },
 "nbformat": 4,
 "nbformat_minor": 2
}
