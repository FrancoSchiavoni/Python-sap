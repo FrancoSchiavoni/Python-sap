{
 "cells": [
  {
   "cell_type": "markdown",
   "metadata": {},
   "source": [
    "# Python Script -  Get datos from Labels"
   ]
  },
  {
   "cell_type": "markdown",
   "metadata": {},
   "source": [
    "## Imports"
   ]
  },
  {
   "cell_type": "code",
   "execution_count": 15,
   "metadata": {},
   "outputs": [],
   "source": [
    "import win32com.client\n",
    "import time"
   ]
  },
  {
   "cell_type": "markdown",
   "metadata": {},
   "source": [
    "## Connect SAP GUI"
   ]
  },
  {
   "cell_type": "code",
   "execution_count": 16,
   "metadata": {},
   "outputs": [],
   "source": [
    "SapGuiAuto = win32com.client.GetObject('SAPGUI')\n",
    "application = SapGuiAuto.GetScriptingEngine\n",
    "connection = application.Children(0)\n",
    "session = connection.Children(0)"
   ]
  },
  {
   "cell_type": "markdown",
   "metadata": {},
   "source": [
    "## Parameters"
   ]
  },
  {
   "cell_type": "code",
   "execution_count": 24,
   "metadata": {},
   "outputs": [],
   "source": [
    "#Necesito los PATHs de cada uno de los campo que quiero leer\n",
    "\n",
    "pathIC = \"wnd[0]/usr/subSCREEN_3000_RESIZING_AREA:SAPLBUS_LOCATOR:2036/subSCREEN_1010_RIGHT_AREA:SAPLBUPA_DIALOG_JOEL:1000/subSCREEN_1000_HEADER_AREA:SAPLBUPA_DIALOG_JOEL:1510/ctxtBUS_JOEL_MAIN-CHANGE_NUMBER\"\n",
    "pathNombre = \"wnd[0]/usr/subSCREEN_3000_RESIZING_AREA:SAPLBUS_LOCATOR:2036/subSCREEN_1010_RIGHT_AREA:SAPLBUPA_DIALOG_JOEL:1000/ssubSCREEN_1000_WORKAREA_AREA:SAPLBUPA_DIALOG_JOEL:1100/ssubSCREEN_1100_MAIN_AREA:SAPLBUPA_DIALOG_JOEL:1101/tabsGS_SCREEN_1100_TABSTRIP/tabpSCREEN_1100_TAB_01/ssubSCREEN_1100_TABSTRIP_AREA:SAPLBUSS:0028/ssubGENSUB:SAPLBUSS:7016/subA02P02:SAPLBUD0:1200/txtBUT000-NAME_ORG1\""
   ]
  },
  {
   "cell_type": "markdown",
   "metadata": {},
   "source": [
    "## Funciones"
   ]
  },
  {
   "cell_type": "code",
   "execution_count": 20,
   "metadata": {},
   "outputs": [],
   "source": [
    "def elemento_presente(id_elemento):\n",
    "    try:\n",
    "        session.findById(id_elemento)\n",
    "        return True\n",
    "    except:\n",
    "        return False"
   ]
  },
  {
   "cell_type": "markdown",
   "metadata": {},
   "source": [
    "## Run SAP Script"
   ]
  },
  {
   "cell_type": "code",
   "execution_count": null,
   "metadata": {},
   "outputs": [],
   "source": [
    "# TRX FPP3\n",
    "session.findById(\"wnd[0]\").maximize()\n",
    "\n",
    "campoEmpresa = session.findById(pathNombre)\n",
    "campoIC = session.findById(pathIC)\n",
    "\n",
    "# Esperar hasta que el elemento esté presente o se agote el tiempo máximo\n",
    "tiempo_maximo_espera = 5  # Tiempo máximo de espera en segundos\n",
    "tiempo_inicio = time.time()\n",
    "while (time.time() - tiempo_inicio) < tiempo_maximo_espera:\n",
    "    if elemento_presente(\"wnd[1]/usr/btnBUTTON_1\"):  \n",
    "        print(\"¡El mensaje de advertencia está presente en SAP!\")\n",
    "        print(\"Cerrando el mensaje de advertencia...\")\n",
    "        session.findById(\"wnd[1]/usr/btnBUTTON_1\").press()\n",
    "        break\n",
    "    else:\n",
    "        print(\"El mensaje de advertencia aún no está presente. Esperando...\")\n",
    "        time.sleep(1)  \n",
    "\n",
    "# Si se alcanza el tiempo máximo de espera y el elemento no está presente\n",
    "if (time.time() - tiempo_inicio) >= tiempo_maximo_espera:\n",
    "    print(\"Se ha alcanzado el tiempo máximo de espera. Continuar con el procedimiento normal.\")\n",
    "\n",
    "#print(\"Nro IC:\", campoIC.text)\n",
    "#print(\"Nombre: \", campoEmpresa.text)\n",
    "\n",
    "connection = None\n",
    "application = None  \n",
    "SapGuiAuto = None"
   ]
  }
 ],
 "metadata": {
  "kernelspec": {
   "display_name": "Python 3",
   "language": "python",
   "name": "python3"
  },
  "language_info": {
   "codemirror_mode": {
    "name": "ipython",
    "version": 3
   },
   "file_extension": ".py",
   "mimetype": "text/x-python",
   "name": "python",
   "nbconvert_exporter": "python",
   "pygments_lexer": "ipython3",
   "version": "3.11.4"
  }
 },
 "nbformat": 4,
 "nbformat_minor": 2
}
