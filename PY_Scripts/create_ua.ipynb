{
 "cells": [
  {
   "cell_type": "markdown",
   "metadata": {},
   "source": [
    "# Python Script -  Create Ubicacion de Aparato"
   ]
  },
  {
   "cell_type": "code",
   "execution_count": 1,
   "metadata": {},
   "outputs": [],
   "source": [
    "import connect_sap as sap\n",
    "from datetime import datetime"
   ]
  },
  {
   "cell_type": "markdown",
   "metadata": {},
   "source": [
    "## Const"
   ]
  },
  {
   "cell_type": "code",
   "execution_count": 2,
   "metadata": {},
   "outputs": [],
   "source": [
    "folderdir = \"C:\\\\_tmp\\\\\"\n",
    "trxCreateUA = \"/nES65\"\n",
    "trxUpdateUA = \"/nES66\""
   ]
  },
  {
   "cell_type": "markdown",
   "metadata": {},
   "source": [
    "## Run SAP Script"
   ]
  },
  {
   "cell_type": "markdown",
   "metadata": {},
   "source": [
    "### Parameters"
   ]
  },
  {
   "cell_type": "code",
   "execution_count": 3,
   "metadata": {},
   "outputs": [],
   "source": [
    "# DateTime execution\n",
    "now = datetime.now()\n",
    "date_string = now.strftime(\"-%Y%m%d_%H%M%S\")\n",
    "\n",
    "import json_magnament as j\n",
    "\n",
    "# DateTime execution\n",
    "now = datetime.now()\n",
    "date_string = now.strftime(\"-%Y%m%d_%H%M%S\")\n",
    "\n",
    "datos = j.read_json()\n",
    "\n",
    "#Datos para UA\n",
    "p_oc = datos['OBJETOS']['OC']\n",
    "PS = datos['OBJETOS']['PS']\n",
    "centro_empl = datos['Create_UA']['centro_empl']\n",
    "denominacion = datos['Create_UA']['denominacion']"
   ]
  },
  {
   "cell_type": "markdown",
   "metadata": {},
   "source": [
    "### Ingresar Trx"
   ]
  },
  {
   "cell_type": "code",
   "execution_count": 4,
   "metadata": {},
   "outputs": [],
   "source": [
    "# In trx Create PS\n",
    "sap.session.findById(\"wnd[0]\").maximize()\n",
    "sap.session.findById(\"wnd[0]/tbar[0]/okcd\").text = trxCreateUA\n",
    "sap.session.findById(\"wnd[0]\").sendVKey(0)"
   ]
  },
  {
   "cell_type": "markdown",
   "metadata": {},
   "source": [
    "### Carga Datos"
   ]
  },
  {
   "cell_type": "code",
   "execution_count": 5,
   "metadata": {},
   "outputs": [],
   "source": [
    "sap.session.findById(\"wnd[0]\").sendVKey(0)\n",
    "sap.session.findById(\"wnd[0]/usr/txtEGPLD-PLTXT\").text = denominacion\n",
    "sap.session.findById(\"wnd[0]/usr/ctxtEGPLD-HAUS\").text = p_oc\n",
    "sap.session.findById(\"wnd[0]/usr/ctxtEGPLD-SWERK\").text = centro_empl\n",
    "sap.session.findById(\"wnd[0]/usr/ctxtEGPLD-VSTELLE\").text = PS\n",
    "sap.session.findById(\"wnd[0]/tbar[0]/btn[11]\").press()"
   ]
  },
  {
   "cell_type": "markdown",
   "metadata": {},
   "source": [
    "### Update UA"
   ]
  },
  {
   "cell_type": "code",
   "execution_count": 6,
   "metadata": {},
   "outputs": [
    {
     "name": "stdout",
     "output_type": "stream",
     "text": [
      "Ubicacion de aparato:  650000000002189\n"
     ]
    }
   ],
   "source": [
    "sap.session.findById(\"wnd[0]/tbar[0]/okcd\").text = trxUpdateUA\n",
    "sap.session.findById(\"wnd[0]\").sendVKey(0)\n",
    "UA = sap.session.findById(\"wnd[0]/usr/ctxtEGPLD-DEVLOC\").text\n",
    "\n",
    "print(\"Ubicacion de aparato: \" ,UA)\n",
    "import json_magnament as j\n",
    "j.escribir_json('UA',UA)"
   ]
  },
  {
   "cell_type": "markdown",
   "metadata": {},
   "source": [
    "## Disconnect"
   ]
  },
  {
   "cell_type": "code",
   "execution_count": 17,
   "metadata": {},
   "outputs": [],
   "source": [
    "#Disconnect\n",
    "connection = None\n",
    "application = None  \n",
    "SapGuiAuto = None"
   ]
  }
 ],
 "metadata": {
  "kernelspec": {
   "display_name": "Python 3",
   "language": "python",
   "name": "python3"
  },
  "language_info": {
   "codemirror_mode": {
    "name": "ipython",
    "version": 3
   },
   "file_extension": ".py",
   "mimetype": "text/x-python",
   "name": "python",
   "nbconvert_exporter": "python",
   "pygments_lexer": "ipython3",
   "version": "3.11.4"
  }
 },
 "nbformat": 4,
 "nbformat_minor": 2
}
